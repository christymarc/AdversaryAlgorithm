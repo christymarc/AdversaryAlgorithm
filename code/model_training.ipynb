{
 "cells": [
  {
   "cell_type": "code",
   "execution_count": 1,
   "id": "e365112e",
   "metadata": {},
   "outputs": [],
   "source": [
    "from fastai.text.all import *\n",
    "from fastai.callback.progress import CSVLogger"
   ]
  },
  {
   "cell_type": "code",
   "execution_count": 2,
   "id": "081c5a09",
   "metadata": {},
   "outputs": [],
   "source": [
    "import torch\n",
    "torch.cuda.set_device(2)"
   ]
  },
  {
   "cell_type": "code",
   "execution_count": null,
   "id": "0c07480d",
   "metadata": {},
   "outputs": [],
   "source": [
    "path = untar_data(URLs.IMDB)"
   ]
  },
  {
   "cell_type": "code",
   "execution_count": null,
   "id": "e6fbd71e",
   "metadata": {},
   "outputs": [],
   "source": [
    "shutil.move(\".fastai/data/imdb\",\"../data\")"
   ]
  },
  {
   "cell_type": "code",
   "execution_count": 4,
   "id": "f222ed79",
   "metadata": {},
   "outputs": [],
   "source": [
    "path = \"../data/imdb2500\""
   ]
  },
  {
   "cell_type": "code",
   "execution_count": null,
   "id": "9cb67c41",
   "metadata": {},
   "outputs": [],
   "source": [
    "# move data into different folders for dataset size (default 25000 train 25000 test)\n",
    "import os\n",
    "import shutil\n",
    "# equivalent to total dataset size of 10000, 20000, 30000, and 40000 respectively\n",
    "data_sizes = [2500, 5000, 7500, 10000]\n",
    "status = ['train', 'test']\n",
    "category = ['pos', 'neg']\n",
    "for num in data_sizes:\n",
    "    for t in status:\n",
    "        for name in category:\n",
    "            src = f\"../data/imdb/{t}/{name}\"\n",
    "            src_files = os.listdir(src)\n",
    "            dest = f\"../data/imdb{num}/{t}/{name}\"\n",
    "            i = 0\n",
    "            for file_name in src_files:\n",
    "                full_file_name = os.path.join(src, file_name)\n",
    "                if os.path.isfile(full_file_name):\n",
    "                    if (not os.path.isdir(dest)):\n",
    "                        os.makedirs(dest)\n",
    "                    shutil.copy(full_file_name, dest)\n",
    "                i += 1\n",
    "                if not (i < num):\n",
    "                    break\n",
    "            print (len([name for name in os.listdir(dest) if os.path.isfile(os.path.join(dest, name))]))"
   ]
  },
  {
   "cell_type": "code",
   "execution_count": null,
   "id": "6954d6e6",
   "metadata": {},
   "outputs": [],
   "source": [
    "dls = DataBlock(\n",
    "    blocks=(TextBlock.from_folder(path, max_vocab=40000),CategoryBlock),\n",
    "    get_y = parent_label,\n",
    "    get_items=partial(get_text_files, folders=['train', 'test']),\n",
    "    splitter=GrandparentSplitter(valid_name='test')\n",
    ")"
   ]
  },
  {
   "cell_type": "code",
   "execution_count": null,
   "id": "a2b725c2",
   "metadata": {},
   "outputs": [],
   "source": [
    "dls = dls.dataloaders(path)\n",
    "dls.show_batch()"
   ]
  },
  {
   "cell_type": "code",
   "execution_count": null,
   "id": "618895e8",
   "metadata": {},
   "outputs": [],
   "source": [
    "learn = text_classifier_learner(dls, AWD_LSTM, drop_mult=0.5, metrics=accuracy, cbs=CSVLogger(append=True))"
   ]
  },
  {
   "cell_type": "code",
   "execution_count": null,
   "id": "0e1edba6",
   "metadata": {},
   "outputs": [],
   "source": [
    "learn.fit_one_cycle(1, 1e-2)\n",
    "learn.remove_cb(CSVLogger)\n",
    "learn.export('1ephoch.pkl')"
   ]
  },
  {
   "cell_type": "code",
   "execution_count": null,
   "id": "0e2c214c",
   "metadata": {},
   "outputs": [],
   "source": [
    "new_learn = load_learner('models/1ephoch.pkl')\n",
    "sentence = \"I love this\"\n",
    "new_learn.predict(sentence)"
   ]
  },
  {
   "cell_type": "code",
   "execution_count": null,
   "id": "7f49dbce",
   "metadata": {},
   "outputs": [],
   "source": [
    "learn.freeze_to(-2)\n",
    "learn.fit_one_cycle(6, 1e-4)"
   ]
  },
  {
   "cell_type": "code",
   "execution_count": null,
   "id": "18148ada",
   "metadata": {},
   "outputs": [],
   "source": [
    "learn.freeze_to(-3)\n",
    "learn.fit_one_cycle(6, 1e-4)"
   ]
  },
  {
   "cell_type": "code",
   "execution_count": null,
   "id": "18a1c1a2",
   "metadata": {},
   "outputs": [],
   "source": [
    "learn.unfreeze()\n",
    "learn.fit_one_cycle(10, 1e-4)"
   ]
  },
  {
   "cell_type": "code",
   "execution_count": null,
   "id": "4bf1b53a",
   "metadata": {},
   "outputs": [],
   "source": [
    "learn.export('23ephoch')"
   ]
  },
  {
   "cell_type": "code",
   "execution_count": 54,
   "id": "722badc8",
   "metadata": {},
   "outputs": [
    {
     "data": {
      "text/html": [
       "\n",
       "<style>\n",
       "    /* Turns off some styling */\n",
       "    progress {\n",
       "        /* gets rid of default border in Firefox and Opera. */\n",
       "        border: none;\n",
       "        /* Needs to be in here for Safari polyfill so background images work as expected. */\n",
       "        background-size: auto;\n",
       "    }\n",
       "    progress:not([value]), progress:not([value])::-webkit-progress-bar {\n",
       "        background: repeating-linear-gradient(45deg, #7e7e7e, #7e7e7e 10px, #5c5c5c 10px, #5c5c5c 20px);\n",
       "    }\n",
       "    .progress-bar-interrupted, .progress-bar-interrupted::-webkit-progress-bar {\n",
       "        background: #F44336;\n",
       "    }\n",
       "</style>\n"
      ],
      "text/plain": [
       "<IPython.core.display.HTML object>"
      ]
     },
     "metadata": {},
     "output_type": "display_data"
    },
    {
     "data": {
      "text/html": [],
      "text/plain": [
       "<IPython.core.display.HTML object>"
      ]
     },
     "metadata": {},
     "output_type": "display_data"
    },
    {
     "data": {
      "text/html": [
       "<table border=\"1\" class=\"dataframe\">\n",
       "  <thead>\n",
       "    <tr style=\"text-align: right;\">\n",
       "      <th></th>\n",
       "      <th>text</th>\n",
       "      <th>category</th>\n",
       "      <th>category_</th>\n",
       "    </tr>\n",
       "  </thead>\n",
       "  <tbody>\n",
       "    <tr>\n",
       "      <th>0</th>\n",
       "      <td>xxbos xxmaj there 's a sign on xxmaj the xxmaj lost xxmaj highway that says : \\n\\n * major xxup spoilers xxup ahead * \\n\\n ( but you already knew that , did n't you ? ) \\n\\n xxmaj since there 's a great deal of people that apparently did not get the point of this movie , xxmaj i 'd like to contribute my interpretation of why the plot makes perfect sense . xxmaj as others have pointed out , one single viewing of this movie is not sufficient . xxmaj if you have the xxup dvd of xxup md , you can \" cheat \" by looking at xxmaj david xxmaj lynch 's \" top 10 xxmaj hints to xxmaj unlocking xxup md \" ( but only upon second or third viewing , please . ) ;) \\n\\n xxmaj first of all , xxmaj mulholland xxmaj drive is</td>\n",
       "      <td>pos</td>\n",
       "      <td>pos</td>\n",
       "    </tr>\n",
       "    <tr>\n",
       "      <th>1</th>\n",
       "      <td>xxbos xxmaj tony xxmaj hawk 's xxmaj pro xxmaj skater 2x , is n't much different at all from the previous games ( excluding xxmaj tony xxmaj hawk 3 ) . xxmaj the only thing new that is featured in xxmaj tony xxmaj hawk 's xxmaj pro xxmaj skater 2x , is the new selection of levels , and tweaked out graphics . xxmaj tony xxmaj hawk 's xxmaj pro xxmaj skater 2x offers a new career mode , and that is the 2x career . xxmaj the 2x career is basically xxmaj tony xxmaj hawk 1 career , because there is only about five challenges per level . xxmaj if you missed xxmaj tony xxmaj hawk 1 and 2 , i suggest that you buy xxmaj tony xxmaj hawk 's xxmaj pro xxmaj skater 2x , but if you have played the first two games , you should still</td>\n",
       "      <td>pos</td>\n",
       "      <td>pos</td>\n",
       "    </tr>\n",
       "    <tr>\n",
       "      <th>2</th>\n",
       "      <td>xxbos xxmaj based on the excellent novel , xxmaj watchers by xxmaj dean xxmaj koontz , is this extremely awful motion picture that probably should n't be viewed by anyone . xxmaj not since \" the xxmaj running xxmaj man \" have i seen a book butchered so far beyond recognition . xxmaj the difference , however , is that \" the xxmaj running xxmaj man \" film was still enjoyable as an amusing action film laden down a million catch phrases . xxmaj this film ",
       "▁ xxmaj nope , nothing remotely amusing . xxmaj in fact , if you love the book , as i do , you 'll hate this bastardization even more . \\n\\n * * xxunk xxup spoilers * * xxmaj xxunk , xxmaj i 'm basically going to tell you the story here , almost in it 's entirety . xxmaj why ? xxmaj because</td>\n",
       "      <td>neg</td>\n",
       "      <td>neg</td>\n",
       "    </tr>\n",
       "    <tr>\n",
       "      <th>3</th>\n",
       "      <td>xxbos xxmaj hearkening back to those \" good xxmaj old xxmaj days \" of 1971 , we can vividly recall when we were treated with a whole xxmaj season of xxmaj charles xxmaj chaplin at the xxmaj cinema . xxmaj that 's what the promotional guy called it when we saw him on somebody 's old talk show . ( we ca n't recall just whose it was ; either xxup merv xxup griffin or xxup woody xxup woodbury , one or the other ! ) xxmaj the guest talked about xxmaj sir xxmaj charles ' career and how his films had been out of circulation ever since the 1952 exclusion of the former \" little xxmaj tramp ' from xxmaj los xxmaj xxunk xxmaj xxunk on the grounds of his being an \" undesirable xxmaj alien \" . ( no xxmaj schultz , he 's xxup not from another</td>\n",
       "      <td>pos</td>\n",
       "      <td>pos</td>\n",
       "    </tr>\n",
       "    <tr>\n",
       "      <th>4</th>\n",
       "      <td>xxbos \" empire xxmaj strikes xxmaj back \" director xxmaj irvin xxmaj kershner 's \" never xxmaj say xxmaj never xxmaj again , \" a remake of the 1965 xxmaj james xxmaj bond movie \" thunderball , \" does n't surpasses the xxmaj terence xxmaj young original , but this non - harry xxmaj saltzman &amp; xxmaj albert xxup r. xxmaj broccoli film is well worth watching if you call yourself a 007 aficionado . xxmaj nevertheless , despite its shortage of clever gadgets and the lack of a vibrant musical score , \" never xxmaj say xxmaj never xxmaj again \" rates as an above - average , suspenseful doomsday thriller with top - flight performances by a seasoned cast including xxmaj sean xxmaj connery , xxmaj kim xxmaj basinger , xxmaj klaus xxmaj maria xxmaj brandauer , xxmaj max xxmaj von xxmaj sydow , xxmaj barbara xxmaj carrera</td>\n",
       "      <td>pos</td>\n",
       "      <td>pos</td>\n",
       "    </tr>\n",
       "    <tr>\n",
       "      <th>5</th>\n",
       "      <td>xxbos xxmaj during an eight - year stretch of the 1980s when xxmaj charles xxmaj bronson made nine films , only one was released by a company other than the xxmaj cannon xxmaj group : ' the xxmaj evil xxmaj that xxmaj men xxmaj do , ' a tristar xxmaj films pickup from xxmaj sir xxmaj lew xxmaj grade 's xxup itc xxmaj entertainment firm . xxmaj bronson was already in the thick of his collaborations with director xxup j. xxmaj lee xxmaj thompson , which ran through numerous actioners until ' kinjite : xxmaj forbidden xxmaj subjects ' in 1989 . \\n\\n xxmaj expectations should run pretty high with xxmaj bronson and xxmaj thompson working for a better - funded outfit like xxup itc , but ' the xxmaj evil xxmaj that xxmaj man xxmaj do ' is a great disappointment on many levels . xxmaj while still from</td>\n",
       "      <td>neg</td>\n",
       "      <td>neg</td>\n",
       "    </tr>\n",
       "    <tr>\n",
       "      <th>6</th>\n",
       "      <td>xxbos xxmaj may 2nd : someone clicked 11 nos , and then proceeded to do 15 more on my previous 15 comments : almost as funny as this turkey ! \\n\\n xxmaj may 1st : \\n\\n xxmaj as i write this , xxmaj i 'm still very much under the impression of what must be the funniest thriller xxmaj i 've ever seen . xxmaj i 've got a major case of the giggles , but xxmaj i 'll try and calm down . ( it 's kind of hard to write when your nose spills snot and the mouth ejects sporadic drool onto the keyboard . ) \\n\\n a pair of young women who just returned from a vacation take a ride on a shuttle bus . a couple of young guys join them . xxmaj but the bus is n't really a taxi service : it 's a</td>\n",
       "      <td>neg</td>\n",
       "      <td>neg</td>\n",
       "    </tr>\n",
       "    <tr>\n",
       "      <th>7</th>\n",
       "      <td>xxbos xxmaj yeah , what did i expect ? i thought this would be a film about young adults at their turning - point in life , something like \" xxunk \" or \" american xxmaj pie \" , which i liked a lot . i wanted to see a funny film , perhaps with an ironic look on idyllic xxmaj xxunk . xxmaj and what did i get ? \\n\\n xxmaj attention , spoilers ahead ! \\n\\n xxmaj this film starts with a lengthy dialogue which gives you a good hint of what will inevitably follow : more lengthy dialogues . xxmaj sometimes i thought xxmaj moritz xxmaj bleibtreu might have forgotten his text and trying to hide that fact by improvising and just repeating what he was saying before . xxmaj but as i think of xxmaj bleibtreu as one of the better german actors , i believe</td>\n",
       "      <td>neg</td>\n",
       "      <td>neg</td>\n",
       "    </tr>\n",
       "    <tr>\n",
       "      <th>8</th>\n",
       "      <td>xxbos xxmaj rose  xxmaj does anything actually happen in this episode ? xxmaj it introduces our two leads , a slow - witted grinning idiot of a xxmaj doctor and an utterly un - interesting companion . xxmaj there 's no plot to speak of , childish humour , mixed with some extremely bad pacing and incidental music . xxmaj what else is there to say , really ? \\n\\n xxmaj the xxmaj end of the xxmaj world  a marginal improvement , in that we see our first outer - space scenario . xxmaj subsequently brought down by poor contemporary humour , paper - thin logic , very poor pacing , and tired xxup sf clichés . \\n\\n xxmaj the xxmaj xxunk xxmaj dead  xxmaj best episode to date showing what can happen when someone knows how to structure an episode , write interesting character dialogue ,</td>\n",
       "      <td>neg</td>\n",
       "      <td>neg</td>\n",
       "    </tr>\n",
       "    <tr>\n",
       "      <th>9</th>\n",
       "      <td>xxbos xxmaj spoilers . xxmaj this review has been edited due to word limit . \\n\\n ` the horror . xxmaj the horror . ' xxmaj marlon xxmaj brando , xxmaj apocalypse xxmaj now ( 1979 ) and xxmaj apocalypse xxmaj now xxmaj redux ( 2001 ) \\n\\n xxmaj the sentence which is as famous as ` here 's looking at you , kid , ' or ` are you talkin ' to me ? ' or ` may the xxmaj force be with you , ' or ` i 'll be back , ' means a little more than some one - liners . xxmaj when it is spoken it lingers in the air with an importance and meaning that does not go unnoticed . xxmaj what might drive some viewers nuts is that they may never find an answer to the horror unless they re - watch the</td>\n",
       "      <td>pos</td>\n",
       "      <td>pos</td>\n",
       "    </tr>\n",
       "  </tbody>\n",
       "</table>"
      ],
      "text/plain": [
       "<IPython.core.display.HTML object>"
      ]
     },
     "metadata": {},
     "output_type": "display_data"
    }
   ],
   "source": [
    "var = learn.show_results(max_n=10, shuffle=True)"
   ]
  },
  {
   "cell_type": "code",
   "execution_count": null,
   "id": "3f0b3ce0",
   "metadata": {},
   "outputs": [],
   "source": []
  }
 ],
 "metadata": {
  "kernelspec": {
   "display_name": "Python 3 (ipykernel)",
   "language": "python",
   "name": "python3"
  },
  "language_info": {
   "codemirror_mode": {
    "name": "ipython",
    "version": 3
   },
   "file_extension": ".py",
   "mimetype": "text/x-python",
   "name": "python",
   "nbconvert_exporter": "python",
   "pygments_lexer": "ipython3",
   "version": "3.11.2"
  }
 },
 "nbformat": 4,
 "nbformat_minor": 5
}
